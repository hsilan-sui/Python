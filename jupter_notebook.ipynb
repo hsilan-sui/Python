{
 "cells": [
  {
   "cell_type": "code",
   "execution_count": null,
   "metadata": {},
   "outputs": [],
   "source": []
  },
  {
   "cell_type": "code",
   "execution_count": null,
   "metadata": {},
   "outputs": [],
   "source": [
    "def narcissistic( value ):\n",
    "    teli = list(map(int,str(value))) # => [5] | [1,5,3] | [1,6,5,2]\n",
    "    numlen = len(teli) # => length / mutiply\n",
    "    # print(num)\n",
    "    if numlen == 1: \n",
    "      # value = value**numlen # 長度等於時 等於自己\n",
    "        print(f'true, {value} == {value**numlen}')\n",
    "        return True\n",
    "    else:\n",
    "        newli= list(map(lambda x: x**numlen, teli)) # [1, 125, 27] | [1, 1296, 625, 16]\n",
    "        total = sum(newli) # 加總list中所有int數字 print(sum(newli))\n",
    "        if total == value:\n",
    "            print(f'true, {newli} sum is {total} == {value}')\n",
    "            return True\n",
    "        else:\n",
    "            print(f'false, {newli} sum is {total} !== {value}')\n",
    "            return False\n",
    "    \n",
    "\n",
    "narcissistic(5)\n",
    "narcissistic(153)\n",
    "narcissistic(1652)\n",
    "\n",
    "# def narcissistic(value):\n",
    "#     return value == sum(int(x) ** len(str(value)) for x in str(value))"
   ]
  },
  {
   "cell_type": "code",
   "execution_count": null,
   "metadata": {},
   "outputs": [],
   "source": [
    "def pig_it(text):\n",
    "    #your code here\n",
    "    #del 1 letter => the end of 1ay\n",
    "    textlist = text.split(' ') # str.split('') | ['Hello', 'world']\n",
    "    print(textlist)\n",
    "    #firSte = text[0:1] + 'ay' # 提取第一個字 加上-ay\n",
    "    def changeWord(tlixt):\n",
    "            if str.isalpha(tlixt): # 使用 str.isalpha() => true or false\n",
    "                firstr = tlixt[0:1]+\"ay\"\n",
    "                remain= tlixt[1:len(tlixt)+1]+firstr  #elloHay 組字串\n",
    "                print(remain) #elloHay\n",
    "                return  remain\n",
    "            else:\n",
    "                 return tlixt\n",
    "    an=list(map(changeWord,textlist))\n",
    "    ' '.join(an)\n",
    "    print(' '.join(an))\n",
    "  \n",
    "    # print(an)\n",
    "    # return an\n",
    "\n",
    "pig_it('Hello world !')\n",
    "\n",
    "# def pis_at(text):\n",
    "#     return \" \".join([x[1:]+x[0]+'ay' if x.isalpha() else x for x in text.split()])\n"
   ]
  }
 ],
 "metadata": {
  "kernelspec": {
   "display_name": "Python 3",
   "language": "python",
   "name": "python3"
  },
  "language_info": {
   "codemirror_mode": {
    "name": "ipython",
    "version": 3
   },
   "file_extension": ".py",
   "mimetype": "text/x-python",
   "name": "python",
   "nbconvert_exporter": "python",
   "pygments_lexer": "ipython3",
   "version": "3.12.3"
  }
 },
 "nbformat": 4,
 "nbformat_minor": 2
}
