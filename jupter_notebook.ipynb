{
 "cells": [
  {
   "cell_type": "code",
   "execution_count": null,
   "metadata": {},
   "outputs": [],
   "source": [
    "# AOP & DECORATOR 注入模組-hook api | AOP 縱向物件導向 \n",
    "import random \n",
    "def my_decorator(executedFn):\n",
    "    def wrapFn(x,y):\n",
    "        a = executedFn(x, y)\n",
    "        \n",
    "        with open('random.txt', 'w', encoding=\"utf-8\") as file:\n",
    "            file.write(str(a))\n",
    "        return a\n",
    "    return wrapFn\n",
    "\n",
    "\n",
    "for ky,val in vars(random).items():\n",
    "    if ky == 'randint':\n",
    "        #print(ky, val) # randint <bound method Random.randint of <random.Random object at 0x000001A0216FA8B0>>\n",
    "        vars(random)[ky] = my_decorator(val)\n",
    "   \n",
    "\n",
    "executed_randint = random.randint(1,99)\n",
    "print(executed_randint)"
   ]
  },
  {
   "cell_type": "markdown",
   "metadata": {},
   "source": [
    "# 物件導向程式設計\n",
    "## 類別 = 說明書\n",
    "```python\n",
    "class Car:\n",
    "    __init__(self, name, isComputer, isAutodriving, engin):\n",
    "    self.name = name\n",
    "    self.isComputer = True\n",
    "    self.isAutodriving = False\n",
    "    self.engin = eletric\n",
    "```"
   ]
  },
  {
   "cell_type": "code",
   "execution_count": 117,
   "metadata": {},
   "outputs": [
    {
     "name": "stdout",
     "output_type": "stream",
     "text": [
      "{'apple': 30, 'banana': 15}\n"
     ]
    }
   ],
   "source": [
    "# 商品庫存管理 說明書\n",
    "\n",
    "class Invet:\n",
    "    def __init__(self): \n",
    "        self.items = {} #｛'item': quantity} # 建立一個空的商品字典\n",
    "\n",
    "    def add_item(self, item, quantity): #庫存中添加商品=> if key => True: update quantity || if Key => false: add it to dic\n",
    "        self.items[item] = self.items.get(item,0) + quantity # dic.get(key, defaultValue)\n",
    "\n",
    "    # 在庫存中移除商品\n",
    "    def remove_item(self, item, quantity):\n",
    "        if item in self.items and self.items[item] >= quantity:\n",
    "            self.items[item] -= quantity # 庫存減去銷量\n",
    "            if self.items[item] == 0: # 庫存為零\n",
    "                del self.items[item]\n",
    "\n",
    "# new instance\n",
    "my_inven = Invet()\n",
    "my_inven.add_item('apple', 30)\n",
    "my_inven.add_item('banana', 40)\n",
    "my_inven.remove_item('banana', 25)\n",
    "\n",
    "print(my_inven.items)"
   ]
  },
  {
   "cell_type": "code",
   "execution_count": 115,
   "metadata": {},
   "outputs": [
    {
     "name": "stdout",
     "output_type": "stream",
     "text": [
      "this is toto car, brand new upgrade eletric\n",
      "None\n",
      "this is dada car, brand new upgrade eletric\n",
      "None\n",
      "本公司引擎代號是A002303, 車體內含Ai電腦系統, 自動駕駛, 最強效鋰電池\n",
      "None\n"
     ]
    }
   ],
   "source": [
    "import random\n",
    "class Car:\n",
    "    def __init__(self, name, isComputer, isAutodriving, engin):\n",
    "        self.name = name\n",
    "        self.isComputer = True\n",
    "        self.isAutodriving = True\n",
    "        self.engin = engin\n",
    "\n",
    "    def __str__(self):\n",
    "        return f'名稱為{self.name}'\n",
    "\n",
    "    def show(self):\n",
    "        print(f'this is {self.name} car, brand new upgrade {self.engin}')\n",
    "        self.__code = 'A002303'\n",
    "\n",
    "    def call(self):\n",
    "        self.__code = 'A002303'\n",
    "        print(f'本公司引擎代號是{self.__code}, 車體內含Ai{'電腦系統' if self.isComputer else '傳統車款'}, {'自動駕駛' if self.isAutodriving else '人為駕駛'}, {'最強效鋰電池' if self.engin =='eletric' else '財油'}')\n",
    "\n",
    "   \n",
    "\n",
    "    color = 'black'\n",
    "\n",
    "toto = Car('toto',True, True,'eletric')\n",
    "dada = Car('dada',True, True,'eletric')\n",
    "\n",
    "\n",
    "print(toto.show())\n",
    "print(dada.show())\n",
    "print(dada.call())\n",
    "# print(Car('jessiCar', True, False, 'eletric'))\n",
    "# print(dada.__gas())"
   ]
  },
  {
   "cell_type": "code",
   "execution_count": 141,
   "metadata": {},
   "outputs": [
    {
     "name": "stdout",
     "output_type": "stream",
     "text": [
      "ABCDEFGHIJKLMNOPQRSTUVWXYZ\n"
     ]
    }
   ],
   "source": [
    "def find_missing_letter(chars):\n",
    "    alpha='abcdefghijklmnopqrstuvwxyz'\n",
    "    # print(alpha.index('f'))\n",
    "    # a-z && ['c','e'] && one missing\n",
    "    # 先對資料做incre \n",
    "    chars = (''.join(sorted(chars))).lower() #['a', 'c', 'd', 'e', 'f'] 'acdef'\n",
    "    # print(chars)\n",
    "    # 找出缺失的那個 => 比對\n",
    "    # 切第一個和最後一個 \n",
    "    fstr = chars[0:1] # a\n",
    "    lastr = chars[-1:-2:-1] # f\n",
    "    sliceStr = alpha[alpha.index(fstr):alpha.index(lastr)+1]\n",
    "    missing = list(filter(lambda x: x not in chars,sliceStr))\n",
    "    answer = str(*missing)\n",
    "    return answer\n",
    "    # print(type(*missing))\n",
    "    # #pass\n",
    "\n",
    "find_missing_letter(['d','c','e','a','f'])\n",
    "find_missing_letter(['O','Q','R','S'])\n",
    "# ['d','c','a']\n",
    "print('abcdefghijklmnopqrstuvwxyz'.upper())\n",
    "\n",
    "# En letters with 26 alpha & take a list as parameter which length is at least 2 && increasing & consecutive list\n",
    "# return the missing letter in the list\n",
    "# assume that u will always get valid list as input && only one missing \n",
    "# Example:\n",
    "\n",
    "# ['a','b','c','d','f'] -> 'e'\n",
    "# ['O','Q','R','S'] -> 'P'\n",
    "# str => 大寫轉小寫 ''.join(list).lower() |小轉大 .upper()\n",
    "# order for int and str => .sort()改變原有list | .sorted(iter, key=None, reverse=False)不會改變原有list\n",
    "\n",
    "# aword =''.join(['O','Q','R','S']).lower()\n",
    "# a = sorted(aword)\n",
    "# print(a)"
   ]
  },
  {
   "cell_type": "code",
   "execution_count": 57,
   "metadata": {},
   "outputs": [
    {
     "name": "stdout",
     "output_type": "stream",
     "text": [
      "<generator object foo at 0x000001A0269DF950>\n",
      "A\n",
      "B\n",
      "C\n",
      "<generator object <genexpr> at 0x000001A0266FE5C0>\n",
      "11\n",
      "22\n",
      "33\n"
     ]
    }
   ],
   "source": [
    "# yield with for in:\n",
    "def foo():\n",
    "    yield 'A'\n",
    "    yield 'B'\n",
    "    yield 'C'\n",
    "\n",
    "g = foo()\n",
    "print(g) # 產生產生器\n",
    "print(next(g)) # 收到yield 第一個回傳A\n",
    "print(next(g)) # 收到yield 第一個回傳B\n",
    "print(next(g)) # 收到yield 第一個回傳C\n",
    "\n",
    "# \n",
    "for val in g:\n",
    "    print(val)\n",
    "\n",
    "li=[11, 22, 33]\n",
    "liGenerator = (val for val in li) # 生成產生器 <generator object <genexpr> at 0x000001A027147340>\n",
    "print(liGenerator) # 生成產生器 <generator object <genexpr> at 0x000001A027147340>\n",
    "print(next(liGenerator)) # yield 回傳 => 收到 li裡面的 11\n",
    "print(next(liGenerator)) # yield 回傳 => 收到 li裡面的 22\n",
    "print(next(liGenerator) )# yield 回傳 => 收到 li裡面的 33"
   ]
  },
  {
   "cell_type": "code",
   "execution_count": null,
   "metadata": {},
   "outputs": [],
   "source": [
    "# Python產生器\n",
    "# 模仿range 實作\n",
    "def xrange(n):\n",
    "    x = 0\n",
    "    while x != n: # 在函式中使用 yield 來產生值\n",
    "        yield x # 表面上看來，yield 有點像是 return，不過函式並不會因為 yield 而結束 只是將流程控制權讓給函式的呼叫者\n",
    "        x += 1\n",
    "\n",
    "for n in xrange(3): # n =1 #n =2 #n =3\n",
    "    print(n)\n",
    "\n",
    "    #當函式中使用 yield 產生值時，呼叫該函式會傳回 generator 物件，也就是產生器，\n",
    "    # 此物件具有 __next__ 方法，\n",
    "    # 通常會使用 next 函式呼叫該方法取出下個產生值（也就是 yield 的值）\n",
    "    \n",
    "    # 若無法產生下一個值（也就是含有 yield 的函式結束了），會發生 StopIteration 例外（Exception）"
   ]
  },
  {
   "cell_type": "code",
   "execution_count": null,
   "metadata": {},
   "outputs": [],
   "source": [
    "# 為了節省記憶體的使用 => 爬蟲 => 為了單次的輸出內容\n",
    "#我們的程式執行到 yield 後，程式就會把值丟出，並暫時停止。直到下一次的遞迴，程式才會從 yield 的下一行開始執行\n",
    "def foo():\n",
    "    print('start...')\n",
    "    while True:\n",
    "        throw = yield 10\n",
    "        print('y拋出了:', throw)\n",
    "\n",
    "g = foo() # 步驟1\n",
    "print(g) #1.<generator object foo at 0x000001A026F49150> => 函式foo()遇到 yield => 不會直接運行 => 轉換成產生器\n",
    "print('first',next(g)) #2. 遇到了next()函式(程式會繼續執行) => 調用foo() => 遇到yield 10 這行後暫停執行 => 回傳回來 => 執行當前這行\"FIRST 10\" \n",
    "print(\"*\"*20)\n",
    "print('second',next(g)) #3. 遇到了next()函式(程式會繼續執行 => 從上次停在yield 回傳這行繼續) => print 星星 =>print('y拋出了:', throw) => 重新執行while => 遇到 throw = yield 10 暫停一下 回傳出來 =>執行 second 10\n"
   ]
  },
  {
   "cell_type": "code",
   "execution_count": null,
   "metadata": {},
   "outputs": [],
   "source": [
    "# 把 next() 換成 send()，就會在 yield 之後被賦予新的值，使 throw 替換成 send() 裡帶來的值\n",
    "def foo2():\n",
    "    print('start...')\n",
    "    while True:\n",
    "        throw = yield 10 # 暫停一下 => 回傳10出去\n",
    "        print('y拋出了:', throw)\n",
    "\n",
    "g = foo2() # 步驟1\n",
    "print(g) #1.<generator object foo at 0x000001A026F49150> => 函式foo2()遇到 yield => 不會直接運行 => 轉換成產生器\n",
    "print('first',next(g)) #2. 遇到了next()函式(程式會繼續執行) => 調用foo() => 遇到yield 10 這行後暫停執行 => 回傳回來 => 執行當前這行\"FIRST 10\" \n",
    "print(\"*\"*20)\n",
    "print(g.send(100)) #3. 遇到了send()函式(程式會繼續執行) => 回到上次暫停的yield => 遇到yield 10 這行後暫停執行 => 回傳回來 => 執行當前這行\"FIRST 10\" "
   ]
  },
  {
   "cell_type": "code",
   "execution_count": null,
   "metadata": {},
   "outputs": [],
   "source": [
    "#\n",
    "def my_decorator(executedFn):\n",
    "    def wrapFn():\n",
    "        print('1')\n",
    "        executedFn()\n",
    "        print('end')\n",
    "        return 'end'\n",
    "    return wrapFn\n",
    "\n",
    "@my_decorator\n",
    "def executedFn():\n",
    "    print('hee')\n",
    "\n",
    "executedFn()"
   ]
  },
  {
   "cell_type": "code",
   "execution_count": null,
   "metadata": {},
   "outputs": [],
   "source": [
    "def narcissistic( value ):\n",
    "    teli = list(map(int,str(value))) # => [5] | [1,5,3] | [1,6,5,2]\n",
    "    numlen = len(teli) # => length / mutiply\n",
    "    # print(num)\n",
    "    if numlen == 1: \n",
    "      # value = value**numlen # 長度等於時 等於自己\n",
    "        print(f'true, {value} == {value**numlen}')\n",
    "        return True\n",
    "    else:\n",
    "        newli= list(map(lambda x: x**numlen, teli)) # [1, 125, 27] | [1, 1296, 625, 16]\n",
    "        total = sum(newli) # 加總list中所有int數字 print(sum(newli))\n",
    "        if total == value:\n",
    "            print(f'true, {newli} sum is {total} == {value}')\n",
    "            return True\n",
    "        else:\n",
    "            print(f'false, {newli} sum is {total} !== {value}')\n",
    "            return False\n",
    "    \n",
    "\n",
    "narcissistic(5)\n",
    "narcissistic(153)\n",
    "narcissistic(1652)\n",
    "\n",
    "# def narcissistic(value):\n",
    "#     return value == sum(int(x) ** len(str(value)) for x in str(value))"
   ]
  },
  {
   "cell_type": "code",
   "execution_count": null,
   "metadata": {},
   "outputs": [],
   "source": [
    "def pig_it(text):\n",
    "    #your code here\n",
    "    #del 1 letter => the end of 1ay\n",
    "    textlist = text.split(' ') # str.split('') | ['Hello', 'world']\n",
    "    print(textlist)\n",
    "    #firSte = text[0:1] + 'ay' # 提取第一個字 加上-ay\n",
    "    def changeWord(tlixt):\n",
    "            if str.isalpha(tlixt): # 使用 str.isalpha() => true or false\n",
    "                firstr = tlixt[0:1]+\"ay\"\n",
    "                remain= tlixt[1:len(tlixt)+1]+firstr  #elloHay 組字串\n",
    "                print(remain) #elloHay\n",
    "                return  remain\n",
    "            else:\n",
    "                 return tlixt\n",
    "    an=list(map(changeWord,textlist))\n",
    "    ' '.join(an)\n",
    "    print(' '.join(an))\n",
    "  \n",
    "    # print(an)\n",
    "    # return an\n",
    "\n",
    "pig_it('Hello world !')\n",
    "\n",
    "# def pis_at(text):\n",
    "#     return \" \".join([x[1:]+x[0]+'ay' if x.isalpha() else x for x in text.split()])\n"
   ]
  }
 ],
 "metadata": {
  "kernelspec": {
   "display_name": "Python 3",
   "language": "python",
   "name": "python3"
  },
  "language_info": {
   "codemirror_mode": {
    "name": "ipython",
    "version": 3
   },
   "file_extension": ".py",
   "mimetype": "text/x-python",
   "name": "python",
   "nbconvert_exporter": "python",
   "pygments_lexer": "ipython3",
   "version": "3.12.3"
  }
 },
 "nbformat": 4,
 "nbformat_minor": 2
}
